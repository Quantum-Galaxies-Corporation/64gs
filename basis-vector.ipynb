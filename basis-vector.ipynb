{
 "cells": [
  {
   "cell_type": "code",
   "execution_count": 9,
   "id": "cbaad3f0-7c5f-4891-945a-d02e2cbfe472",
   "metadata": {},
   "outputs": [],
   "source": [
    "from read import * \n",
    "import numpy as np"
   ]
  },
  {
   "cell_type": "code",
   "execution_count": 10,
   "id": "be7f28e6-28a6-477a-8c82-a18c798153a9",
   "metadata": {},
   "outputs": [],
   "source": [
    "iter = 92"
   ]
  },
  {
   "cell_type": "code",
   "execution_count": 11,
   "id": "10383c76-1d43-45c7-883d-7aab4795d984",
   "metadata": {},
   "outputs": [
    {
     "data": {
      "text/plain": [
       "array([-9.88222922e-10])"
      ]
     },
     "execution_count": 11,
     "metadata": {},
     "output_type": "execute_result"
    }
   ],
   "source": [
    "def read_space(iteration,space):\n",
    "    return read_h5(\"{}/{}\".format('64gs',str(iteration)),'e',1,False,space)\n",
    "\n",
    "##16 blocks of 4 Qbits each\n",
    "\n",
    "#there are (2^4) ^ 16 elements..\n",
    "#specify 1 of 16 elements for each block\n",
    "vector_index = np.zeros(16,int)\n",
    "\n",
    "##GRAB a vector element\n",
    "\n",
    "sum_element = 0.\n",
    "for rank, coeff in enumerate(read_space(iter,0)):\n",
    "    product_element = coeff\n",
    "    for space in range(16):\n",
    "        product_element *= read_space(iter,2+space)[rank][vector_index[space]]\n",
    "    sum_element += product_element\n",
    "sum_element"
   ]
  }
 ],
 "metadata": {
  "kernelspec": {
   "display_name": "Python 3 (ipykernel)",
   "language": "python",
   "name": "python3"
  },
  "language_info": {
   "codemirror_mode": {
    "name": "ipython",
    "version": 3
   },
   "file_extension": ".py",
   "mimetype": "text/x-python",
   "name": "python",
   "nbconvert_exporter": "python",
   "pygments_lexer": "ipython3",
   "version": "3.9.6"
  }
 },
 "nbformat": 4,
 "nbformat_minor": 5
}
